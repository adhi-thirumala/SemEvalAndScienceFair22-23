{
 "cells": [
  {
   "cell_type": "markdown",
   "id": "b12000a6-1170-4fa0-b2f6-01234fe106d2",
   "metadata": {},
   "source": [
    "# Step 0: Prepare Some Data"
   ]
  },
  {
   "cell_type": "code",
   "execution_count": 1,
   "id": "63a36038-56f1-4b92-966e-0df614fcac17",
   "metadata": {},
   "outputs": [
    {
     "data": {
      "text/html": [
       "<div>\n",
       "<style scoped>\n",
       "    .dataframe tbody tr th:only-of-type {\n",
       "        vertical-align: middle;\n",
       "    }\n",
       "\n",
       "    .dataframe tbody tr th {\n",
       "        vertical-align: top;\n",
       "    }\n",
       "\n",
       "    .dataframe thead th {\n",
       "        text-align: right;\n",
       "    }\n",
       "</style>\n",
       "<table border=\"1\" class=\"dataframe\">\n",
       "  <thead>\n",
       "    <tr style=\"text-align: right;\">\n",
       "      <th></th>\n",
       "      <th>uuid</th>\n",
       "      <th>postText</th>\n",
       "      <th>targetParagraphs</th>\n",
       "      <th>targetTitle</th>\n",
       "      <th>targetDescription</th>\n",
       "      <th>targetUrl</th>\n",
       "      <th>provenance</th>\n",
       "      <th>spoiler</th>\n",
       "      <th>spoilerPositions</th>\n",
       "      <th>tags</th>\n",
       "    </tr>\n",
       "  </thead>\n",
       "  <tbody>\n",
       "    <tr>\n",
       "      <th>0</th>\n",
       "      <td>b2303ab7-f978-4576-b563-899f73397ed5</td>\n",
       "      <td>[Guess who hasn't seen the Star Wars: The Forc...</td>\n",
       "      <td>[On YouTube alone, the teaser trailer for Star...</td>\n",
       "      <td>George Lucas doesn't 'know anything about' the...</td>\n",
       "      <td>On YouTube alone, the teaser trailer for Star ...</td>\n",
       "      <td>http://polygon.com/e/7119322</td>\n",
       "      <td>{'source': 'anonymized', 'humanSpoiler': 'Geor...</td>\n",
       "      <td>[George Lucas]</td>\n",
       "      <td>[[[0, 151], [0, 163]]]</td>\n",
       "      <td>[phrase]</td>\n",
       "    </tr>\n",
       "    <tr>\n",
       "      <th>1</th>\n",
       "      <td>09f9794e-134e-4e58-8ec2-8259ec40c136</td>\n",
       "      <td>[Has \"Star Trek 3\" found its director?]</td>\n",
       "      <td>[Joe Cornish could replace J.J. Abrams as king...</td>\n",
       "      <td>Joe Cornish Rumored For 'Star Trek 3' Director...</td>\n",
       "      <td>Joe Cornish could replace J.J. Abrams as king ...</td>\n",
       "      <td>http://huff.to/1aVGhr4</td>\n",
       "      <td>{'source': 'anonymized', 'humanSpoiler': 'This...</td>\n",
       "      <td>[Joe Cornish could replace J.J. Abrams as king...</td>\n",
       "      <td>[[[0, 0], [0, 74]]]</td>\n",
       "      <td>[passage]</td>\n",
       "    </tr>\n",
       "  </tbody>\n",
       "</table>\n",
       "</div>"
      ],
      "text/plain": [
       "                                   uuid  \\\n",
       "0  b2303ab7-f978-4576-b563-899f73397ed5   \n",
       "1  09f9794e-134e-4e58-8ec2-8259ec40c136   \n",
       "\n",
       "                                            postText  \\\n",
       "0  [Guess who hasn't seen the Star Wars: The Forc...   \n",
       "1            [Has \"Star Trek 3\" found its director?]   \n",
       "\n",
       "                                    targetParagraphs  \\\n",
       "0  [On YouTube alone, the teaser trailer for Star...   \n",
       "1  [Joe Cornish could replace J.J. Abrams as king...   \n",
       "\n",
       "                                         targetTitle  \\\n",
       "0  George Lucas doesn't 'know anything about' the...   \n",
       "1  Joe Cornish Rumored For 'Star Trek 3' Director...   \n",
       "\n",
       "                                   targetDescription  \\\n",
       "0  On YouTube alone, the teaser trailer for Star ...   \n",
       "1  Joe Cornish could replace J.J. Abrams as king ...   \n",
       "\n",
       "                      targetUrl  \\\n",
       "0  http://polygon.com/e/7119322   \n",
       "1        http://huff.to/1aVGhr4   \n",
       "\n",
       "                                          provenance  \\\n",
       "0  {'source': 'anonymized', 'humanSpoiler': 'Geor...   \n",
       "1  {'source': 'anonymized', 'humanSpoiler': 'This...   \n",
       "\n",
       "                                             spoiler        spoilerPositions  \\\n",
       "0                                     [George Lucas]  [[[0, 151], [0, 163]]]   \n",
       "1  [Joe Cornish could replace J.J. Abrams as king...     [[[0, 0], [0, 74]]]   \n",
       "\n",
       "        tags  \n",
       "0   [phrase]  \n",
       "1  [passage]  "
      ]
     },
     "execution_count": 1,
     "metadata": {},
     "output_type": "execute_result"
    }
   ],
   "source": [
    "import pandas as pd\n",
    "import tira\n",
    "\n",
    "# Two Example entries from the training data.\n",
    "df = pd.DataFrame([\n",
    "    {\"uuid\": \"b2303ab7-f978-4576-b563-899f73397ed5\", \"postText\": [\"Guess who hasn't seen the Star Wars: The Force awakens trailer?\"], \"targetParagraphs\": [\"On YouTube alone, the teaser trailer for Star Wars: The Force Awakens has more than 12 million views, but you can count one person out of that number: George Lucas, the man who created the Star Wars universe.\", \"Page Six asked Lucas for his thoughts on the 88-second glimpse into the future of the galaxy far, far away, only to discover that he had none.\", \"\\\"I don't know anything about it,\\\" Lucas said. \\\"I haven't seen it yet.\\\"\", \"Asked why, he explained that it was \\\"Because it's not in the movie theater. I like going to the movies and watching the whole thing there.\", \"\\\"I plan to see it when it's released.\\\"\", \"The filmmaker sold Lucasfilm and its attending franchises to Disney in October 2012 in a deal worth more than $4 billion. At the announcement, Disney revealed that Star Wars: Episode VII was in production, based on Lucas' outline. According to Disney's announcement, Lucas would serve as a \\\"creative consultant\\\" for the franchise.\", \"Disney announced the cast of the next installment, which includes actors from the original trilogy, in April 2014. The first trailer hit on Black Friday. Directed by J.J. Abrams, Star Wars: The Force Awakens is slated to open Dec. 15, 2015. You can watch the teaser trailer below. For more on what it might mean, be sure to read Polygon's analysis.\"], \"targetTitle\": \"George Lucas doesn't 'know anything about' the new Star Wars trailer\", \"targetDescription\": \"On YouTube alone, the teaser trailer for Star Wars: The Force Awakens has more than 12 million views, but you can count one person out of that number: George Lucas, the man who created the Star...\", \"targetUrl\": \"http://polygon.com/e/7119322\", \"provenance\": {\"source\": \"anonymized\", \"humanSpoiler\": \"George Lucas.\", \"spoilerPublisher\": \"SavedYouAClick\"}, \"spoiler\": [\"George Lucas\"], \"spoilerPositions\": [[[0, 151], [0, 163]]], \"tags\": [\"phrase\"]},\n",
    "    {\"uuid\": \"09f9794e-134e-4e58-8ec2-8259ec40c136\", \"postText\": [\"Has \\\"Star Trek 3\\\" found its director?\"], \"targetParagraphs\": [\"Joe Cornish could replace J.J. Abrams as king of the \\\"Star Trek\\\" universe. That's the report from Deadline.com's Mike Fleming, who writes that Paramount \\\"is sweet\\\" on the idea of Cornish directing the franchise's next installment.\", \"This isn't the first time Cornish, who directed the cult hit \\\"Attack the Block\\\" and co-wrote the script for \\\"Ant-Man\\\" with Edgar Wright, has had his name attached to \\\"Star Trek 3.\\\" Back in May, Latino Review reporter Umberto \\\"El Mayimbe\\\" Gonzalez tweeted that Cornish was under consideration as a possible replacement for Abrams, who is next directing \\\"Star Wars: Episode VII.\\\"\", \"I guess y'all wanna know about who might be directing STAR TREK 3 if it ever goes. Heard Joe Cornish BUT also heard he's on a list of names. — elmayimbe (@elmayimbe) May 23, 2013\", \"I'm NOT saying Joe Cornish is the guy, but what I am saying is the he is definitely one of NUMEROUS contenders. — elmayimbe (@elmayimbe) May 23, 2013\", \"Other reported contenders for \\\"Star Trek 3\\\" have included Jon M. Chu and Rupert Wyatt. In an email to HuffPost Entertainment, however, Chu's representatives denied that \\\"G.I. Joe: Retaliation\\\" director was up for the job. Wyatt's involvement was never confirmed or denied, but Abrams did discuss the \\\"Rise of the Planet of the Apes\\\" director in an interview with HitFix.\", \"\\\"Whomever it is that directs the film will be someone we all know is going to keep the cast and crew in good hands,\\\" Abrams told Collider back in September. \\\"I feel very lucky to have been part of it, and it definitely feels like the right time to let someone come in and do their own thing. I certainly don’t want someone to come in and try to do what I would have done. We want to hire someone who's gonna come in and bring their own sensibility. I'm very excited to see what comes next, despite feeling jealous of whomever that person is.\\\"\", \"HuffPost Entertainment contacted Cornish's representatives for comment on the Deadline.com rumor; this post will be updated if they respond. For more on Cornish, meanwhile, head to Deadline.com.\", \"[via Deadline.com]\"], \"targetTitle\": \"Joe Cornish Rumored For 'Star Trek 3' Director Job\", \"targetDescription\": \"Joe Cornish could replace J.J. Abrams as king of the \\\"Star Trek\\\" universe. That's the report from Deadline.com's Mike Fleming,\", \"targetUrl\": \"http://huff.to/1aVGhr4\", \"provenance\": {\"source\": \"anonymized\", \"humanSpoiler\": \"This article doesn't know but the rumor is Joe Cornish\", \"spoilerPublisher\": \"HuffPoSpoilers\"}, \"spoiler\": [\"Joe Cornish could replace J.J. Abrams as king of the \\\"Star Trek\\\" universe.\"], \"spoilerPositions\": [[[0, 0], [0, 74]]], \"tags\": [\"passage\"]},\n",
    "])\n",
    "\n",
    "df"
   ]
  },
  {
   "cell_type": "markdown",
   "id": "9e572e05-f9ea-4560-92b4-a9b0182d37ed",
   "metadata": {},
   "source": [
    "# Step 1: Have a Working Approach\n",
    "\n",
    "First, you should have an running approach that works without docker on your localhost and uses something as above as input"
   ]
  },
  {
   "cell_type": "code",
   "execution_count": 3,
   "id": "10fe7370-7942-4d0b-87ce-683a911839d2",
   "metadata": {},
   "outputs": [
    {
     "name": "stderr",
     "output_type": "stream",
     "text": [
      " 50%|███████████████████████████████████████████████████████▌                                                       | 1/2 [00:00<00:00,  8.74it/s]\n",
      "100%|███████████████████████████████████████████████████████████████████████████████████████████████████████████████| 1/1 [00:10<00:00, 10.05s/it]\n"
     ]
    },
    {
     "data": {
      "text/html": [
       "<div>\n",
       "<style scoped>\n",
       "    .dataframe tbody tr th:only-of-type {\n",
       "        vertical-align: middle;\n",
       "    }\n",
       "\n",
       "    .dataframe tbody tr th {\n",
       "        vertical-align: top;\n",
       "    }\n",
       "\n",
       "    .dataframe thead th {\n",
       "        text-align: right;\n",
       "    }\n",
       "</style>\n",
       "<table border=\"1\" class=\"dataframe\">\n",
       "  <thead>\n",
       "    <tr style=\"text-align: right;\">\n",
       "      <th></th>\n",
       "      <th>uuid</th>\n",
       "      <th>spoilerType</th>\n",
       "    </tr>\n",
       "  </thead>\n",
       "  <tbody>\n",
       "    <tr>\n",
       "      <th>0</th>\n",
       "      <td>b2303ab7-f978-4576-b563-899f73397ed5</td>\n",
       "      <td>phrase</td>\n",
       "    </tr>\n",
       "    <tr>\n",
       "      <th>1</th>\n",
       "      <td>09f9794e-134e-4e58-8ec2-8259ec40c136</td>\n",
       "      <td>passage</td>\n",
       "    </tr>\n",
       "  </tbody>\n",
       "</table>\n",
       "</div>"
      ],
      "text/plain": [
       "                                   uuid spoilerType\n",
       "0  b2303ab7-f978-4576-b563-899f73397ed5      phrase\n",
       "1  09f9794e-134e-4e58-8ec2-8259ec40c136     passage"
      ]
     },
     "execution_count": 3,
     "metadata": {},
     "output_type": "execute_result"
    }
   ],
   "source": [
    "import importlib\n",
    "baseline = importlib.import_module('transformer-baseline-task-1')\n",
    "\n",
    "results = pd.DataFrame(baseline.predict(df))\n",
    "\n",
    "results"
   ]
  },
  {
   "cell_type": "markdown",
   "id": "1f2ce4d8-9a38-4345-8039-f6be1b18f1e0",
   "metadata": {
    "tags": []
   },
   "source": [
    "# Step 2: Test Your Approach also works in Docker\n",
    "\n",
    "As soon as you have finished step 1 and have an approach that works on your system, you should than wrap it into a docker container and can still test it locally via `tira.run`.\n"
   ]
  },
  {
   "cell_type": "code",
   "execution_count": 4,
   "id": "30a1250d-876a-4707-b179-8ab0fea4522b",
   "metadata": {},
   "outputs": [
    {
     "data": {
      "text/html": [
       "<div>\n",
       "<style scoped>\n",
       "    .dataframe tbody tr th:only-of-type {\n",
       "        vertical-align: middle;\n",
       "    }\n",
       "\n",
       "    .dataframe tbody tr th {\n",
       "        vertical-align: top;\n",
       "    }\n",
       "\n",
       "    .dataframe thead th {\n",
       "        text-align: right;\n",
       "    }\n",
       "</style>\n",
       "<table border=\"1\" class=\"dataframe\">\n",
       "  <thead>\n",
       "    <tr style=\"text-align: right;\">\n",
       "      <th></th>\n",
       "      <th>uuid</th>\n",
       "      <th>spoilerType</th>\n",
       "    </tr>\n",
       "  </thead>\n",
       "  <tbody>\n",
       "    <tr>\n",
       "      <th>0</th>\n",
       "      <td>b2303ab7-f978-4576-b563-899f73397ed5</td>\n",
       "      <td>phrase</td>\n",
       "    </tr>\n",
       "    <tr>\n",
       "      <th>1</th>\n",
       "      <td>09f9794e-134e-4e58-8ec2-8259ec40c136</td>\n",
       "      <td>passage</td>\n",
       "    </tr>\n",
       "  </tbody>\n",
       "</table>\n",
       "</div>"
      ],
      "text/plain": [
       "                                   uuid spoilerType\n",
       "0  b2303ab7-f978-4576-b563-899f73397ed5      phrase\n",
       "1  09f9794e-134e-4e58-8ec2-8259ec40c136     passage"
      ]
     },
     "execution_count": 4,
     "metadata": {},
     "output_type": "execute_result"
    }
   ],
   "source": [
    "results = tira.run(\n",
    "    image = 'webis/pan-clickbait-spoiling-baselines:task1-transformer-0.0.3',\n",
    "    command = '/transformer-baseline-task-1.py --input $inputDataset/input.jsonl --output $outputDir/run.jsonl',\n",
    "    data=df,\n",
    "    verbose=False,\n",
    "    evaluate=False,\n",
    ")\n",
    "\n",
    "results"
   ]
  }
 ],
 "metadata": {
  "kernelspec": {
   "display_name": "Python 3 (ipykernel)",
   "language": "python",
   "name": "python3"
  },
  "language_info": {
   "codemirror_mode": {
    "name": "ipython",
    "version": 3
   },
   "file_extension": ".py",
   "mimetype": "text/x-python",
   "name": "python",
   "nbconvert_exporter": "python",
   "pygments_lexer": "ipython3",
   "version": "3.7.13"
  }
 },
 "nbformat": 4,
 "nbformat_minor": 5
}
